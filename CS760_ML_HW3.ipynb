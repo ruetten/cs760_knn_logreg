{
  "nbformat": 4,
  "nbformat_minor": 0,
  "metadata": {
    "colab": {
      "provenance": []
    },
    "kernelspec": {
      "name": "python3",
      "display_name": "Python 3"
    },
    "language_info": {
      "name": "python"
    }
  },
  "cells": [
    {
      "cell_type": "markdown",
      "source": [
        "Laik Ruetten\n",
        "\n",
        "lruetten"
      ],
      "metadata": {
        "id": "i5gkmCgdztKP"
      }
    },
    {
      "cell_type": "markdown",
      "source": [
        "## Section 1: Question 5 a)"
      ],
      "metadata": {
        "id": "0zhB0uQ2OcqP"
      }
    },
    {
      "cell_type": "code",
      "source": [
        "import numpy as np\n",
        "from sklearn import metrics\n",
        "import matplotlib.pyplot as plt\n",
        "\n",
        "yhat = [0.95, 0.85, 0.8, 0.7, 0.55, 0.45, 0.4, 0.3, 0.2, 0.1]\n",
        "y = [1,       1,   0,   1,    1,    0,   1,   1,   0,   0]\n",
        "\n",
        "fpr, tpr, threshold = metrics.roc_curve(y, yhat)\n",
        "\n",
        "plt.xlabel('False Positive Rate')\n",
        "plt.ylabel('True Positive Rate')\n",
        "plt.title('ROC Curve')\n",
        "plt.plot(fpr,tpr)"
      ],
      "metadata": {
        "id": "yILTCPk3OfrZ",
        "colab": {
          "base_uri": "https://localhost:8080/",
          "height": 313
        },
        "outputId": "4088af6b-2e92-41d8-885e-35354078e74e"
      },
      "execution_count": 1,
      "outputs": [
        {
          "output_type": "execute_result",
          "data": {
            "text/plain": [
              "[<matplotlib.lines.Line2D at 0x7fca80f70d60>]"
            ]
          },
          "metadata": {},
          "execution_count": 1
        },
        {
          "output_type": "display_data",
          "data": {
            "text/plain": [
              "<Figure size 432x288 with 1 Axes>"
            ],
            "image/png": "[encoded data removed]"
          },
          "metadata": {
            "needs_background": "light"
          }
        }
      ]
    },
    {
      "cell_type": "markdown",
      "source": [
        "## Section 2"
      ],
      "metadata": {
        "id": "SBJtgYAoOgnE"
      }
    },
    {
      "cell_type": "code",
      "source": [
        "import sys\n",
        "import matplotlib.pyplot as plt\n",
        "import numpy as np\n",
        "from sklearn.neighbors import KNeighborsClassifier"
      ],
      "metadata": {
        "id": "gmF05SZOY_6f"
      },
      "execution_count": 2,
      "outputs": []
    },
    {
      "cell_type": "markdown",
      "source": [
        "## 1)"
      ],
      "metadata": {
        "id": "_SxQm07M0FoH"
      }
    },
    {
      "cell_type": "code",
      "source": [
        "# This work was done in Google colab\n",
        "# File input looks like this\n",
        "\n",
        "# Input D2z.txt\n",
        "from google.colab import drive\n",
        "\n",
        "drive.mount('/content/drive')\n",
        "with open('/content/drive/My Drive/Colab Notebooks/D2z.txt', 'r') as f:\n",
        "  temp = np.genfromtxt(f,delimiter=' ')"
      ],
      "metadata": {
        "colab": {
          "base_uri": "https://localhost:8080/"
        },
        "id": "oXx-sdmI0IFK",
        "outputId": "0acc5ac6-361f-48a9-e540-5d4894a1b972"
      },
      "execution_count": 3,
      "outputs": [
        {
          "output_type": "stream",
          "name": "stdout",
          "text": [
            "Mounted at /content/drive\n"
          ]
        }
      ]
    },
    {
      "cell_type": "code",
      "source": [
        "X = temp[:, :-1]\n",
        "y = temp[:, -1]"
      ],
      "metadata": {
        "id": "lK-AJ9UM04ma"
      },
      "execution_count": 4,
      "outputs": []
    },
    {
      "cell_type": "code",
      "source": [
        "# Create 1NN classifier\n",
        "neigh = KNeighborsClassifier(n_neighbors=1)\n",
        "neigh.fit(X, y)\n",
        "\n",
        "# Predictions of 1NN on a 2D grid [-1 : 0.1 : 2]^2\n",
        "prediction = [[], []]\n",
        "for i in np.round(np.arange(-2, 2, 0.1), 1):\n",
        "  for j in np.round(np.arange(-2, 2, 0.1), 1):\n",
        "    prediction[int(neigh.predict([[i,j]]))].append([i,j])\n",
        "\n",
        "# Plot predictions\n",
        "prediction[0] = np.array(prediction[0])\n",
        "prediction[1] = np.array(prediction[1])\n",
        "plt.plot(prediction[0].T[0], prediction[0].T[1], 'bo', markersize=1)\n",
        "plt.plot(prediction[1].T[0], prediction[1].T[1], 'ro', markersize=1)\n",
        "\n",
        "X0 = np.array([X[i] for i in range(0, len(X)) if not y[i]])\n",
        "X1 = np.array([X[i] for i in range(0, len(X)) if y[i]])\n",
        "\n",
        "plt.plot(X0.T[0], X0.T[1], 's', markersize=5)\n",
        "plt.plot(X1.T[0], X1.T[1], '+', markersize=10)\n",
        "\n",
        "plt.axis([-2, 2, -2, 2])\n",
        "plt.show()"
      ],
      "metadata": {
        "colab": {
          "base_uri": "https://localhost:8080/",
          "height": 269
        },
        "id": "Ik-EVmu42qvG",
        "outputId": "c10b1b4b-bb64-4e5d-c1af-ee81ce7efd25"
      },
      "execution_count": 5,
      "outputs": [
        {
          "output_type": "display_data",
          "data": {
            "text/plain": [
              "<Figure size 432x288 with 1 Axes>"
            ],
            "image/png": "[encoded data removed]"
          },
          "metadata": {
            "needs_background": "light"
          }
        }
      ]
    },
    {
      "cell_type": "markdown",
      "source": [
        "## 2)"
      ],
      "metadata": {
        "id": "n8OwigkKzicX"
      }
    },
    {
      "cell_type": "code",
      "execution_count": 6,
      "metadata": {
        "colab": {
          "base_uri": "https://localhost:8080/"
        },
        "id": "S6Zd04YSxNC-",
        "outputId": "31a29b17-ac39-4efd-d043-0db4a59d5bea"
      },
      "outputs": [
        {
          "output_type": "stream",
          "name": "stdout",
          "text": [
            "Drive already mounted at /content/drive; to attempt to forcibly remount, call drive.mount(\"/content/drive\", force_remount=True).\n"
          ]
        }
      ],
      "source": [
        "# Input emails.csv\n",
        "from google.colab import drive\n",
        "\n",
        "drive.mount('/content/drive')\n",
        "with open('/content/drive/My Drive/Colab Notebooks/emails.csv', 'r') as f:\n",
        "  temp = np.genfromtxt(f,delimiter=',')"
      ]
    },
    {
      "cell_type": "code",
      "source": [
        "# Set up the folds (I just did it manually to not worry about bugs in loops)\n",
        "Xy = temp[1:, 1:]\n",
        "\n",
        "X = Xy[:, :-1]\n",
        "y = Xy[:, -1]\n",
        "\n",
        "X_train = X[:4000]\n",
        "y_train = y[:4000]\n",
        "X_test = X[4000:]\n",
        "y_test = y[4000:]\n",
        "\n",
        "X_fold1 = X[:1000]\n",
        "X_fold2 = X[1000:2000]\n",
        "X_fold3 = X[2000:3000]\n",
        "X_fold4 = X[3000:4000]\n",
        "X_fold5 = X[4000:]\n",
        "y_fold1 = y[:1000]\n",
        "y_fold2 = y[1000:2000]\n",
        "y_fold3 = y[2000:3000]\n",
        "y_fold4 = y[3000:4000]\n",
        "y_fold5 = y[4000:]\n",
        "\n",
        "X_fold1_train = np.concatenate((X_fold2, X_fold3, X_fold4, X_fold5))\n",
        "X_fold2_train = np.concatenate((X_fold1, X_fold3, X_fold4, X_fold5))\n",
        "X_fold3_train = np.concatenate((X_fold1, X_fold2, X_fold4, X_fold5))\n",
        "X_fold4_train = np.concatenate((X_fold1, X_fold2, X_fold3, X_fold5))\n",
        "X_fold5_train = np.concatenate((X_fold1, X_fold2, X_fold3, X_fold4))\n",
        "y_fold1_train = np.concatenate((y_fold2, y_fold3, y_fold4, y_fold5))\n",
        "y_fold2_train = np.concatenate((y_fold1, y_fold3, y_fold4, y_fold5))\n",
        "y_fold3_train = np.concatenate((y_fold1, y_fold2, y_fold4, y_fold5))\n",
        "y_fold4_train = np.concatenate((y_fold1, y_fold2, y_fold3, y_fold5))\n",
        "y_fold5_train = np.concatenate((y_fold1, y_fold2, y_fold3, y_fold4))\n",
        "\n",
        "folds = [(X_fold1, y_fold1, X_fold1_train, y_fold1_train), \\\n",
        "         (X_fold2, y_fold2, X_fold2_train, y_fold2_train), \\\n",
        "         (X_fold3, y_fold3, X_fold3_train, y_fold3_train), \\\n",
        "         (X_fold4, y_fold4, X_fold4_train, y_fold4_train), \\\n",
        "         (X_fold5, y_fold5, X_fold5_train, y_fold5_train)]"
      ],
      "metadata": {
        "id": "cacTtq1cyKbb"
      },
      "execution_count": 7,
      "outputs": []
    },
    {
      "cell_type": "code",
      "source": [
        "# 1NN classifier\n",
        "# X_test - test data\n",
        "# y_test - test labels\n",
        "# X_train - train data\n",
        "# y_train - train labels\n",
        "# returns - confusion matrix of form [[TP, FP], [FN, TN]]\n",
        "def one_N_N(X_test, y_test, X_train, y_train):\n",
        "  confusion_matrix = [[0, 0],[0, 0]]\n",
        "  # For each point i in the test set\n",
        "  for (xi, yi) in zip(X_test, y_test):\n",
        "    nearest_distance = sys.maxsize\n",
        "    nearest_neighbor_class = -1\n",
        "    # compare it to every point j in the training set\n",
        "    for (xj, yj) in zip(X_train, y_train):\n",
        "      # via euclidian distance\n",
        "      dist = np.linalg.norm(xi - xj)\n",
        "      \n",
        "      # return the class of the nearest neighbor\n",
        "      if dist < nearest_distance:\n",
        "        nearest_distance = dist\n",
        "        nearest_neighbor_class = yj\n",
        "\n",
        "    # True Positive\n",
        "    if yi and nearest_neighbor_class:\n",
        "      confusion_matrix[0][0] = confusion_matrix[0][0] + 1\n",
        "    # False Positive\n",
        "    elif not yi and nearest_neighbor_class:\n",
        "      confusion_matrix[0][1] = confusion_matrix[0][1] + 1\n",
        "    # False Negative\n",
        "    elif yi and not nearest_neighbor_class:\n",
        "      confusion_matrix[1][0] = confusion_matrix[1][0] + 1\n",
        "    # True Negative\n",
        "    elif not yi and not nearest_neighbor_class:\n",
        "      confusion_matrix[1][1] = confusion_matrix[1][1] + 1\n",
        "  \n",
        "  return confusion_matrix"
      ],
      "metadata": {
        "id": "YmTbonpnSfbm"
      },
      "execution_count": 18,
      "outputs": []
    },
    {
      "cell_type": "code",
      "source": [
        "# returns accuracy, precision, and recall\n",
        "def get_metrics(confusion_matrix):\n",
        "  [[TP, FP], [FN, TN]] = confusion_matrix\n",
        "  accuracy = (TP + TN) / (TP + FP + FN + TN)\n",
        "  precision = TP / (TP + FP)\n",
        "  recall = TP / (TP + FN)\n",
        "  return accuracy, precision, recall"
      ],
      "metadata": {
        "id": "bcgATTqmdmzv"
      },
      "execution_count": 9,
      "outputs": []
    },
    {
      "cell_type": "code",
      "source": [
        "print(get_metrics(one_N_N(X_fold1, y_fold1, X_fold1_train, y_fold1_train)))\n",
        "print(get_metrics(one_N_N(X_fold2, y_fold2, X_fold2_train, y_fold2_train)))\n",
        "print(get_metrics(one_N_N(X_fold3, y_fold3, X_fold3_train, y_fold3_train)))\n",
        "print(get_metrics(one_N_N(X_fold4, y_fold4, X_fold4_train, y_fold4_train)))\n",
        "print(get_metrics(one_N_N(X_fold5, y_fold5, X_fold5_train, y_fold5_train)))"
      ],
      "metadata": {
        "id": "zLIvNRIIeyf6"
      },
      "execution_count": null,
      "outputs": []
    },
    {
      "cell_type": "markdown",
      "source": [
        "(accuracy, precision, recall) \\\\\n",
        "(0.825, 0.6544943820224719, 0.8175438596491228) \\\\\n",
        "(0.853, 0.6857142857142857, 0.8664259927797834) \\\\\n",
        "(0.862, 0.7212121212121212, 0.8380281690140845) \\\\\n",
        "(0.851, 0.7164179104477612, 0.8163265306122449) \\\\\n",
        "(0.775, 0.6057441253263708, 0.7581699346405228)"
      ],
      "metadata": {
        "id": "JGYn2tLclOnc"
      }
    },
    {
      "cell_type": "markdown",
      "source": [
        "## 3)"
      ],
      "metadata": {
        "id": "VEH03CnZzll2"
      }
    },
    {
      "cell_type": "code",
      "source": [
        "# Logistic regression\n",
        "# X_test - test data\n",
        "# y_test - test labels\n",
        "# X_train - train data\n",
        "# y_train - train labels\n",
        "# returns - confusion matrix of form [[TP, FP], [FN, TN]]\n",
        "def logistic_regression(X_test, y_test, X_train, y_train):\n",
        "  confusion_matrix = [[0, 0],[0, 0]]\n",
        "  X = X_train\n",
        "  y = y_train\n",
        "\n",
        "  # Make a column of ones for the intercept weight\n",
        "  intercept = np.ones((X.shape[0], 1))\n",
        "  X = np.concatenate((intercept, X), axis=1)\n",
        "  y = y.reshape(-1, 1)\n",
        "\n",
        "  # randomly initialize weights\n",
        "  w = np.random.rand(len(X[0])).reshape(-1, 1)\n",
        "\n",
        "  # Iterations of gradient descent\n",
        "  α = 0.01\n",
        "  iterations = 5000 \n",
        "  for _ in range(iterations):\n",
        "    p = 1 / (1 + np.exp(-np.dot(X, w)))\n",
        "    w = w - α * np.dot(X.T, (p - y)) / len(X)\n",
        "  \n",
        "  # Test\n",
        "  X = X_test\n",
        "  y = y_test\n",
        "  intercept = np.ones((X.shape[0], 1))\n",
        "  X = np.concatenate((intercept, X), axis=1)\n",
        "  y = y.reshape(-1, 1)\n",
        "  p = 1 / (1 + np.exp(-np.dot(X, w)))\n",
        "  p = p.round()\n",
        "\n",
        "  for i in range(0, len(y)):\n",
        "    # True Positive\n",
        "    if y[i] and p[i]:\n",
        "      confusion_matrix[0][0] = confusion_matrix[0][0] + 1\n",
        "    # False Positive\n",
        "    elif not y[i] and p[i]:\n",
        "      confusion_matrix[0][1] = confusion_matrix[0][1] + 1\n",
        "    # False Negative\n",
        "    elif y[i] and not p[i]:\n",
        "      confusion_matrix[1][0] = confusion_matrix[1][0] + 1\n",
        "    # True Negative\n",
        "    elif not y[i] and not p[i]:\n",
        "      confusion_matrix[1][1] = confusion_matrix[1][1] + 1\n",
        "\n",
        "  return confusion_matrix"
      ],
      "metadata": {
        "id": "QxabSbHMAXpK"
      },
      "execution_count": 11,
      "outputs": []
    },
    {
      "cell_type": "code",
      "source": [
        "print(get_metrics(logistic_regression(X_fold1, y_fold1, X_fold1_train, y_fold1_train)))\n",
        "print(get_metrics(logistic_regression(X_fold2, y_fold2, X_fold2_train, y_fold2_train)))\n",
        "print(get_metrics(logistic_regression(X_fold3, y_fold3, X_fold3_train, y_fold3_train)))\n",
        "print(get_metrics(logistic_regression(X_fold4, y_fold4, X_fold4_train, y_fold4_train)))\n",
        "print(get_metrics(logistic_regression(X_fold5, y_fold5, X_fold5_train, y_fold5_train)))"
      ],
      "metadata": {
        "id": "RQM03TPlCNea"
      },
      "execution_count": null,
      "outputs": []
    },
    {
      "cell_type": "markdown",
      "source": [
        "(accuracy, precision, recall) \\\\\n",
        "(0.899, 0.9220183486238532, 0.7052631578947368) \\\\\n",
        "(0.917, 0.8566176470588235, 0.8411552346570397) \\\\\n",
        "(0.904, 0.8852459016393442, 0.7605633802816901) \\\\\n",
        "(0.897, 0.8031746031746032, 0.8605442176870748) \\\\\n",
        "(0.863, 0.7665615141955836, 0.7941176470588235)\n"
      ],
      "metadata": {
        "id": "sgnkD7DeFVXN"
      }
    },
    {
      "cell_type": "markdown",
      "source": [
        "## 4)"
      ],
      "metadata": {
        "id": "hFqdyNsuzV3l"
      }
    },
    {
      "cell_type": "code",
      "source": [
        "# k - number of neighbors\n",
        "# fold - (X_test, y_test, X_train, y_train)\n",
        "# X_test - test data\n",
        "# y_test - test labels\n",
        "# X_train - train data\n",
        "# y_train - train labels\n",
        "# returns - confusion matrix of form [[TP, FP], [FN, TN]]\n",
        "def kNN(k, fold):\n",
        "  X_test, y_test, X_train, y_train = fold\n",
        "  confusion_matrix = [[0, 0],[0, 0]]\n",
        "  neigh = KNeighborsClassifier(n_neighbors=k)\n",
        "  neigh.fit(X_train, y_train)\n",
        "  prediction = neigh.predict(X_test)\n",
        "\n",
        "  for i in range(0, len(X_test)):\n",
        "    # True Positive\n",
        "    if y_test[i] and prediction[i]:\n",
        "      confusion_matrix[0][0] = confusion_matrix[0][0] + 1\n",
        "    # False Positive\n",
        "    elif not y_test[i] and prediction[i]:\n",
        "      confusion_matrix[0][1] = confusion_matrix[0][1] + 1\n",
        "    # False Negative\n",
        "    elif y_test[i] and not prediction[i]:\n",
        "      confusion_matrix[1][0] = confusion_matrix[1][0] + 1\n",
        "    # True Negative\n",
        "    elif not y_test[i] and not prediction[i]:\n",
        "      confusion_matrix[1][1] = confusion_matrix[1][1] + 1\n",
        "  \n",
        "  return confusion_matrix"
      ],
      "metadata": {
        "id": "2ZIb5Hb2omUp"
      },
      "execution_count": 12,
      "outputs": []
    },
    {
      "cell_type": "code",
      "source": [
        "for k in (1, 3, 5, 7, 10):\n",
        "  i = 0\n",
        "  fold_accuracies = []\n",
        "  for fold in folds:\n",
        "    (acc, prec, recall) = get_metrics(kNN(k, fold))\n",
        "    print('k=',k,'fold=',i,'acc,prec,recall=', (acc, prec, recall))\n",
        "    fold_accuracies.append(acc)\n",
        "    i = i + 1\n",
        "  print('avg_acc=', sum(fold_accuracies)/5)\n",
        "    "
      ],
      "metadata": {
        "colab": {
          "base_uri": "https://localhost:8080/"
        },
        "id": "p2FlCjQzlS9x",
        "outputId": "c0115037-0087-406f-b1d1-f2be7ee779e7"
      },
      "execution_count": 13,
      "outputs": [
        {
          "output_type": "stream",
          "name": "stdout",
          "text": [
            "k= 1 fold= 0 acc,prec,recall= (0.825, 0.6544943820224719, 0.8175438596491228)\n",
            "k= 1 fold= 1 acc,prec,recall= (0.853, 0.6857142857142857, 0.8664259927797834)\n",
            "k= 1 fold= 2 acc,prec,recall= (0.862, 0.7212121212121212, 0.8380281690140845)\n",
            "k= 1 fold= 3 acc,prec,recall= (0.851, 0.7164179104477612, 0.8163265306122449)\n",
            "k= 1 fold= 4 acc,prec,recall= (0.775, 0.6057441253263708, 0.7581699346405228)\n",
            "avg_acc= 0.8332\n",
            "k= 3 fold= 0 acc,prec,recall= (0.847, 0.680327868852459, 0.8736842105263158)\n",
            "k= 3 fold= 1 acc,prec,recall= (0.851, 0.6975308641975309, 0.8158844765342961)\n",
            "k= 3 fold= 2 acc,prec,recall= (0.859, 0.7227414330218068, 0.8169014084507042)\n",
            "k= 3 fold= 3 acc,prec,recall= (0.88, 0.7788461538461539, 0.826530612244898)\n",
            "k= 3 fold= 4 acc,prec,recall= (0.774, 0.6086956521739131, 0.7320261437908496)\n",
            "avg_acc= 0.8422000000000001\n",
            "k= 5 fold= 0 acc,prec,recall= (0.837, 0.6685082872928176, 0.8491228070175438)\n",
            "k= 5 fold= 1 acc,prec,recall= (0.85, 0.7068403908794788, 0.7833935018050542)\n",
            "k= 5 fold= 2 acc,prec,recall= (0.869, 0.7475728155339806, 0.8133802816901409)\n",
            "k= 5 fold= 3 acc,prec,recall= (0.869, 0.7620578778135049, 0.8061224489795918)\n",
            "k= 5 fold= 4 acc,prec,recall= (0.779, 0.613941018766756, 0.7483660130718954)\n",
            "avg_acc= 0.8408\n",
            "k= 7 fold= 0 acc,prec,recall= (0.839, 0.6712707182320442, 0.8526315789473684)\n",
            "k= 7 fold= 1 acc,prec,recall= (0.864, 0.7252396166134185, 0.8194945848375451)\n",
            "k= 7 fold= 2 acc,prec,recall= (0.875, 0.7556270096463023, 0.8274647887323944)\n",
            "k= 7 fold= 3 acc,prec,recall= (0.874, 0.7781456953642384, 0.7993197278911565)\n",
            "k= 7 fold= 4 acc,prec,recall= (0.779, 0.6145552560646901, 0.7450980392156863)\n",
            "avg_acc= 0.8462\n",
            "k= 10 fold= 0 acc,prec,recall= (0.862, 0.7318611987381703, 0.8140350877192982)\n",
            "k= 10 fold= 1 acc,prec,recall= (0.869, 0.75, 0.7906137184115524)\n",
            "k= 10 fold= 2 acc,prec,recall= (0.878, 0.7852112676056338, 0.7852112676056338)\n",
            "k= 10 fold= 3 acc,prec,recall= (0.887, 0.8267148014440433, 0.7789115646258503)\n",
            "k= 10 fold= 4 acc,prec,recall= (0.782, 0.6317365269461078, 0.6895424836601307)\n",
            "avg_acc= 0.8556000000000001\n"
          ]
        }
      ]
    },
    {
      "cell_type": "code",
      "source": [
        "k = [1, 3, 5, 7, 10]\n",
        "avg_acc = [0.8332, 0.8422, 0.8408, 0.8462, 0.8556]\n",
        "\n",
        "plt.plot(k, avg_acc)\n",
        "plt.title('knn 5-Fold Cross validation')\n",
        "plt.grid(alpha=0.5, linestyle='-', linewidth=2)\n",
        "plt.xlabel('k')\n",
        "plt.ylabel('Average accuracy')\n",
        "plt.show()\n"
      ],
      "metadata": {
        "colab": {
          "base_uri": "https://localhost:8080/",
          "height": 295
        },
        "id": "-JWoAH8wyNt4",
        "outputId": "1775a792-edce-4610-8f14-db698acb1bfe"
      },
      "execution_count": 14,
      "outputs": [
        {
          "output_type": "display_data",
          "data": {
            "text/plain": [
              "<Figure size 432x288 with 1 Axes>"
            ],
            "image/png": "[encoded data removed]"
          },
          "metadata": {
            "needs_background": "light"
          }
        }
      ]
    },
    {
      "cell_type": "markdown",
      "source": [
        "## 5)"
      ],
      "metadata": {
        "id": "E0Iw_Yt4yK1c"
      }
    },
    {
      "cell_type": "code",
      "source": [
        "X_train = X[:4000]\n",
        "y_train = y[:4000]\n",
        "X_test = X[4000:]\n",
        "y_test = y[4000:]\n",
        "\n",
        "confusion_matrix = [[0, 0],[0, 0]]\n",
        "neigh = KNeighborsClassifier(n_neighbors=5)\n",
        "neigh.fit(X_train, y_train)\n",
        "prediction = neigh.predict(X_test)\n",
        "\n",
        "for i in range(0, len(X_test)):\n",
        "  # True Positive\n",
        "  if y_test[i] and prediction[i]:\n",
        "    confusion_matrix[0][0] = confusion_matrix[0][0] + 1\n",
        "  # False Positive\n",
        "  elif not y_test[i] and prediction[i]:\n",
        "    confusion_matrix[0][1] = confusion_matrix[0][1] + 1\n",
        "  # False Negative\n",
        "  elif y_test[i] and not prediction[i]:\n",
        "    confusion_matrix[1][0] = confusion_matrix[1][0] + 1\n",
        "  # True Negative\n",
        "  elif not y_test[i] and not prediction[i]:\n",
        "    confusion_matrix[1][1] = confusion_matrix[1][1] + 1\n",
        "\n",
        "knn_confustion_matrix = confusion_matrix\n",
        "print(knn_confustion_matrix)"
      ],
      "metadata": {
        "colab": {
          "base_uri": "https://localhost:8080/"
        },
        "id": "tTTdsD0mnO7x",
        "outputId": "d35b18ae-5b45-4530-ff22-b5f9ab6944b7"
      },
      "execution_count": 15,
      "outputs": [
        {
          "output_type": "stream",
          "name": "stdout",
          "text": [
            "[[229, 144], [77, 550]]\n"
          ]
        }
      ]
    },
    {
      "cell_type": "code",
      "source": [
        "from sklearn.linear_model import LogisticRegression\n",
        "\n",
        "X_train = X[:4000]\n",
        "y_train = y[:4000]\n",
        "X_test = X[4000:]\n",
        "y_test = y[4000:]\n",
        "\n",
        "confusion_matrix = [[0, 0],[0, 0]]\n",
        "logreg = LogisticRegression(random_state=0, max_iter=300)\n",
        "logreg.fit(X_train, y_train)\n",
        "prediction = logreg.predict(X_test)\n",
        "\n",
        "for i in range(0, len(X_test)):\n",
        "  # True Positive\n",
        "  if y_test[i] and prediction[i]:\n",
        "    confusion_matrix[0][0] = confusion_matrix[0][0] + 1\n",
        "  # False Positive\n",
        "  elif not y_test[i] and prediction[i]:\n",
        "    confusion_matrix[0][1] = confusion_matrix[0][1] + 1\n",
        "  # False Negative\n",
        "  elif y_test[i] and not prediction[i]:\n",
        "    confusion_matrix[1][0] = confusion_matrix[1][0] + 1\n",
        "  # True Negative\n",
        "  elif not y_test[i] and not prediction[i]:\n",
        "    confusion_matrix[1][1] = confusion_matrix[1][1] + 1\n",
        "\n",
        "logreg_confustion_matrix = confusion_matrix\n",
        "print(logreg_confustion_matrix)"
      ],
      "metadata": {
        "colab": {
          "base_uri": "https://localhost:8080/"
        },
        "id": "w7wuWuihuyje",
        "outputId": "087f9542-e6a6-45e3-cc1b-f909d5661953"
      },
      "execution_count": 16,
      "outputs": [
        {
          "output_type": "stream",
          "name": "stdout",
          "text": [
            "[[283, 31], [23, 663]]\n"
          ]
        },
        {
          "output_type": "stream",
          "name": "stderr",
          "text": [
            "/usr/local/lib/python3.8/dist-packages/sklearn/linear_model/_logistic.py:814: ConvergenceWarning: lbfgs failed to converge (status=1):\n",
            "STOP: TOTAL NO. of ITERATIONS REACHED LIMIT.\n",
            "\n",
            "Increase the number of iterations (max_iter) or scale the data as shown in:\n",
            "    https://scikit-learn.org/stable/modules/preprocessing.html\n",
            "Please also refer to the documentation for alternative solver options:\n",
            "    https://scikit-learn.org/stable/modules/linear_model.html#logistic-regression\n",
            "  n_iter_i = _check_optimize_result(\n"
          ]
        }
      ]
    },
    {
      "cell_type": "code",
      "source": [
        "from sklearn import metrics\n",
        "\n",
        "neigh_ROC = metrics.plot_roc_curve(neigh, X_test, y_test)\n",
        "logreg_ROC = metrics.plot_roc_curve(logreg, X_test, y_test, ax=neigh_ROC.ax_)\n",
        "plt.grid(alpha=0.5, linestyle='-', linewidth=2)\n",
        "plt.show()"
      ],
      "metadata": {
        "colab": {
          "base_uri": "https://localhost:8080/",
          "height": 372
        },
        "id": "G0CMkIW8vOIv",
        "outputId": "ec218e12-d62e-4091-a53c-cb4bf7ce671f"
      },
      "execution_count": 17,
      "outputs": [
        {
          "output_type": "stream",
          "name": "stderr",
          "text": [
            "/usr/local/lib/python3.8/dist-packages/sklearn/utils/deprecation.py:87: FutureWarning: Function plot_roc_curve is deprecated; Function :func:`plot_roc_curve` is deprecated in 1.0 and will be removed in 1.2. Use one of the class methods: :meth:`sklearn.metric.RocCurveDisplay.from_predictions` or :meth:`sklearn.metric.RocCurveDisplay.from_estimator`.\n",
            "  warnings.warn(msg, category=FutureWarning)\n",
            "/usr/local/lib/python3.8/dist-packages/sklearn/utils/deprecation.py:87: FutureWarning: Function plot_roc_curve is deprecated; Function :func:`plot_roc_curve` is deprecated in 1.0 and will be removed in 1.2. Use one of the class methods: :meth:`sklearn.metric.RocCurveDisplay.from_predictions` or :meth:`sklearn.metric.RocCurveDisplay.from_estimator`.\n",
            "  warnings.warn(msg, category=FutureWarning)\n"
          ]
        },
        {
          "output_type": "display_data",
          "data": {
            "text/plain": [
              "<Figure size 432x288 with 1 Axes>"
            ],
            "image/png": "[encoded data removed]"
          },
          "metadata": {
            "needs_background": "light"
          }
        }
      ]
    }
  ]
}